{
 "cells": [
  {
   "cell_type": "code",
   "execution_count": 13,
   "id": "1f4cffbf",
   "metadata": {},
   "outputs": [],
   "source": [
    "from selenium import webdriver"
   ]
  },
  {
   "cell_type": "code",
   "execution_count": 14,
   "id": "139dfe1f",
   "metadata": {},
   "outputs": [],
   "source": [
    "browser = webdriver.Chrome()"
   ]
  },
  {
   "cell_type": "code",
   "execution_count": 15,
   "id": "0fcf6748",
   "metadata": {},
   "outputs": [],
   "source": [
    "browser.get('https://idm-japan.sakura.ne.jp/ems/')"
   ]
  },
  {
   "cell_type": "code",
   "execution_count": 16,
   "id": "b428aff0",
   "metadata": {},
   "outputs": [
    {
     "name": "stderr",
     "output_type": "stream",
     "text": [
      "C:\\Users\\USER\\AppData\\Local\\Temp/ipykernel_6796/519090681.py:1: DeprecationWarning: find_element_by_* commands are deprecated. Please use find_element() instead\n",
      "  elem_username = browser.find_element_by_id('username-121')\n"
     ]
    }
   ],
   "source": [
    "elem_username = browser.find_element_by_id('username-121')"
   ]
  },
  {
   "cell_type": "code",
   "execution_count": 17,
   "id": "fb6b4a35",
   "metadata": {},
   "outputs": [],
   "source": [
    "elem_username.send_keys('idm-japan')"
   ]
  },
  {
   "cell_type": "code",
   "execution_count": 18,
   "id": "3e286755",
   "metadata": {},
   "outputs": [
    {
     "name": "stderr",
     "output_type": "stream",
     "text": [
      "C:\\Users\\USER\\AppData\\Local\\Temp/ipykernel_6796/3100704075.py:1: DeprecationWarning: find_element_by_* commands are deprecated. Please use find_element() instead\n",
      "  elem_password = browser.find_element_by_id('user_password-121')\n"
     ]
    }
   ],
   "source": [
    "elem_password = browser.find_element_by_id('user_password-121')"
   ]
  },
  {
   "cell_type": "code",
   "execution_count": 19,
   "id": "01a14921",
   "metadata": {},
   "outputs": [],
   "source": [
    "elem_password.send_keys('Idmjapan75900805')"
   ]
  },
  {
   "cell_type": "code",
   "execution_count": 20,
   "id": "c151dcd8",
   "metadata": {},
   "outputs": [
    {
     "name": "stderr",
     "output_type": "stream",
     "text": [
      "C:\\Users\\USER\\AppData\\Local\\Temp/ipykernel_6796/2336325115.py:1: DeprecationWarning: find_element_by_* commands are deprecated. Please use find_element() instead\n",
      "  elem_login_btn = browser.find_element_by_id('um-submit-btn')\n"
     ]
    }
   ],
   "source": [
    "elem_login_btn = browser.find_element_by_id('um-submit-btn')"
   ]
  },
  {
   "cell_type": "code",
   "execution_count": 21,
   "id": "ff2aaae3",
   "metadata": {},
   "outputs": [],
   "source": [
    "elem_login_btn.click()"
   ]
  },
  {
   "cell_type": "code",
   "execution_count": null,
   "id": "acdd2ec3",
   "metadata": {},
   "outputs": [],
   "source": []
  }
 ],
 "metadata": {
  "kernelspec": {
   "display_name": "Python 3 (ipykernel)",
   "language": "python",
   "name": "python3"
  },
  "language_info": {
   "codemirror_mode": {
    "name": "ipython",
    "version": 3
   },
   "file_extension": ".py",
   "mimetype": "text/x-python",
   "name": "python",
   "nbconvert_exporter": "python",
   "pygments_lexer": "ipython3",
   "version": "3.9.7"
  }
 },
 "nbformat": 4,
 "nbformat_minor": 5
}
